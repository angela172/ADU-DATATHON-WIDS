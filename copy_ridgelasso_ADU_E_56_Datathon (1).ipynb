{
  "cells": [
    {
      "cell_type": "code",
      "execution_count": null,
      "id": "55417767-9886-4696-b380-fd6a759239b4",
      "metadata": {
        "id": "55417767-9886-4696-b380-fd6a759239b4"
      },
      "outputs": [],
      "source": [
        "# !pip install pandas\n",
        "# !pip install scikit-learn\n",
        "# !pip install numpy"
      ]
    },
    {
      "cell_type": "code",
      "execution_count": 4,
      "id": "DfMdNbInDXqB",
      "metadata": {
        "colab": {
          "base_uri": "https://localhost:8080/"
        },
        "id": "DfMdNbInDXqB",
        "outputId": "125bde7a-fe24-4a0d-cdf7-0ea7d64e8267"
      },
      "outputs": [
        {
          "ename": "ModuleNotFoundError",
          "evalue": "No module named 'google.colab'",
          "output_type": "error",
          "traceback": [
            "\u001b[1;31m---------------------------------------------------------------------------\u001b[0m",
            "\u001b[1;31mModuleNotFoundError\u001b[0m                       Traceback (most recent call last)",
            "Cell \u001b[1;32mIn[4], line 1\u001b[0m\n\u001b[1;32m----> 1\u001b[0m \u001b[38;5;28;01mfrom\u001b[39;00m \u001b[38;5;21;01mgoogle\u001b[39;00m\u001b[38;5;21;01m.\u001b[39;00m\u001b[38;5;21;01mcolab\u001b[39;00m \u001b[38;5;28;01mimport\u001b[39;00m drive\n\u001b[0;32m      2\u001b[0m drive\u001b[38;5;241m.\u001b[39mmount(\u001b[38;5;124m'\u001b[39m\u001b[38;5;124m/content/drive\u001b[39m\u001b[38;5;124m'\u001b[39m)\n",
            "\u001b[1;31mModuleNotFoundError\u001b[0m: No module named 'google.colab'"
          ]
        }
      ],
      "source": [
        "from google.colab import drive\n",
        "drive.mount('/content/drive')"
      ]
    },
    {
      "cell_type": "code",
      "execution_count": 5,
      "id": "6261a9af-288c-480a-bb58-93a39caba5e2",
      "metadata": {
        "id": "6261a9af-288c-480a-bb58-93a39caba5e2"
      },
      "outputs": [],
      "source": [
        "import pandas as pd\n",
        "from sklearn.model_selection import train_test_split"
      ]
    },
    {
      "cell_type": "code",
      "execution_count": 6,
      "id": "5f8366bd-3389-4e75-be11-1d464cfba7de",
      "metadata": {
        "colab": {
          "base_uri": "https://localhost:8080/",
          "height": 373
        },
        "id": "5f8366bd-3389-4e75-be11-1d464cfba7de",
        "outputId": "6a9f04f8-21d8-401b-a99c-8092c05fcb20"
      },
      "outputs": [],
      "source": [
        "X_full = pd.read_csv(r'C:\\Users\\11 PrO\\Downloads\\train.csv\\train.csv', index_col = 'patient_id')\n",
        "X_test = pd.read_csv(r'C:\\Users\\11 PrO\\Downloads\\test.csv\\test.csv', index_col = 'patient_id')\n",
        "\n",
        "# Removing these columns as more empty values than actual values\n",
        "X_full.drop(['metastatic_first_novel_treatment', 'metastatic_first_novel_treatment_type'], axis = 1)\n",
        "X_test.drop(['metastatic_first_novel_treatment', 'metastatic_first_novel_treatment_type'], axis = 1)\n",
        "\n",
        "# Specifying Target Column\n",
        "X_full.dropna(axis = 0, subset  = ['treatment_pd'], inplace = True)\n",
        "y = X_full.treatment_pd\n",
        "X_full.drop(['treatment_pd'], axis = 1, inplace = True)\n",
        "\n",
        "#Splitting\n",
        "X_train, X_valid, y_train, y_valid = train_test_split(X_full, y, train_size = 0.8, test_size = 0.2, random_state = 0)"
      ]
    },
    {
      "cell_type": "code",
      "execution_count": null,
      "id": "54460f74-db7e-4204-8477-e6fc70c244f3",
      "metadata": {
        "id": "54460f74-db7e-4204-8477-e6fc70c244f3"
      },
      "outputs": [],
      "source": [
        "print(y_train)\n",
        "# X_train.head()"
      ]
    },
    {
      "cell_type": "code",
      "execution_count": 7,
      "id": "30ade06e-7abc-494a-a0b4-243cdbeedb4c",
      "metadata": {
        "id": "30ade06e-7abc-494a-a0b4-243cdbeedb4c"
      },
      "outputs": [
        {
          "name": "stdout",
          "output_type": "stream",
          "text": [
            "['patient_race', 'payer_type', 'patient_state', 'patient_gender', 'breast_cancer_diagnosis_code', 'breast_cancer_diagnosis_desc', 'metastatic_cancer_diagnosis_code', 'metastatic_first_treatment', 'metastatic_first_treatment_type', 'metastatic_first_novel_treatment', 'metastatic_first_novel_treatment_type', 'region', 'division']\n",
            "13\n"
          ]
        }
      ],
      "source": [
        "#Columns with categorical data\n",
        "object_cols = [i for i in X_train.columns if\n",
        "              X_train[i].dtype == \"object\"]\n",
        "\n",
        "print(object_cols)\n",
        "print(len(object_cols)) #13 categorical columns"
      ]
    },
    {
      "cell_type": "code",
      "execution_count": 8,
      "id": "d684b4e5-76e1-464f-ae64-b4d871c1f3c6",
      "metadata": {
        "id": "d684b4e5-76e1-464f-ae64-b4d871c1f3c6"
      },
      "outputs": [
        {
          "name": "stdout",
          "output_type": "stream",
          "text": [
            "['patient_race', 'payer_type', 'patient_state', 'patient_gender', 'metastatic_first_treatment', 'metastatic_first_treatment_type', 'metastatic_first_novel_treatment', 'metastatic_first_novel_treatment_type', 'region', 'division']\n"
          ]
        }
      ],
      "source": [
        "#The categorical columns good for encoding\n",
        "\n",
        "good_label_cols = [i for i in object_cols if\n",
        "                  set(X_valid[i]).issubset(set(X_train[i]))]\n",
        "\n",
        "print(good_label_cols)"
      ]
    },
    {
      "cell_type": "code",
      "execution_count": 9,
      "id": "d32b8610-0893-45d1-98de-8630b00512cc",
      "metadata": {
        "id": "d32b8610-0893-45d1-98de-8630b00512cc"
      },
      "outputs": [
        {
          "name": "stdout",
          "output_type": "stream",
          "text": [
            "['breast_cancer_diagnosis_code', 'breast_cancer_diagnosis_desc', 'metastatic_cancer_diagnosis_code']\n"
          ]
        }
      ],
      "source": [
        "#Bad columns... not ideal to one-hot encode\n",
        "bad_label_cols = list(set(object_cols) - set(good_label_cols))\n",
        "\n",
        "print(bad_label_cols)"
      ]
    },
    {
      "cell_type": "code",
      "execution_count": 10,
      "id": "4fb88b9c-203a-4d8a-875d-94e8ce90a45d",
      "metadata": {
        "id": "4fb88b9c-203a-4d8a-875d-94e8ce90a45d"
      },
      "outputs": [
        {
          "data": {
            "text/plain": [
              "[('patient_gender', 1),\n",
              " ('metastatic_first_novel_treatment_type', 1),\n",
              " ('metastatic_first_novel_treatment', 2),\n",
              " ('payer_type', 3),\n",
              " ('metastatic_first_treatment_type', 4),\n",
              " ('region', 4),\n",
              " ('patient_race', 5),\n",
              " ('division', 9),\n",
              " ('metastatic_cancer_diagnosis_code', 40),\n",
              " ('metastatic_first_treatment', 40),\n",
              " ('patient_state', 52),\n",
              " ('breast_cancer_diagnosis_code', 56),\n",
              " ('breast_cancer_diagnosis_desc', 56)]"
            ]
          },
          "execution_count": 10,
          "metadata": {},
          "output_type": "execute_result"
        }
      ],
      "source": [
        "#To get the number of unique values in each columns\n",
        "\n",
        "object_nunique = list(map(lambda col: X_train[col].nunique(), object_cols))\n",
        "d = dict(zip(object_cols, object_nunique))\n",
        "\n",
        "# Print number of unique entries by column, in ascending order\n",
        "sorted(d.items(), key=lambda x: x[1])\n",
        "\n",
        "#ideally should encode for values with <10 unique values"
      ]
    },
    {
      "cell_type": "code",
      "execution_count": 11,
      "id": "0a07334a-cdc9-4fac-b4a6-22ba37072985",
      "metadata": {
        "id": "0a07334a-cdc9-4fac-b4a6-22ba37072985"
      },
      "outputs": [
        {
          "name": "stdout",
          "output_type": "stream",
          "text": [
            "['patient_race', 'payer_type', 'patient_gender', 'metastatic_first_treatment_type', 'metastatic_first_novel_treatment', 'metastatic_first_novel_treatment_type', 'region', 'division']\n"
          ]
        }
      ],
      "source": [
        "#Better to One-Hot Encode low_cardinality_cols\n",
        "\n",
        "low_cardinality_cols = [i for i in object_cols if\n",
        "                       X_train[i].nunique() < 10]\n",
        "\n",
        "high_cardinality_cols = list(set(object_cols) - set(low_cardinality_cols))\n",
        "\n",
        "print(low_cardinality_cols)"
      ]
    },
    {
      "cell_type": "code",
      "execution_count": null,
      "id": "1955c6f8-8531-41c9-b596-e6a8c601db8b",
      "metadata": {
        "id": "1955c6f8-8531-41c9-b596-e6a8c601db8b"
      },
      "outputs": [],
      "source": [
        "print(y_train)"
      ]
    },
    {
      "cell_type": "code",
      "execution_count": 12,
      "id": "063e0b02-2782-4c69-93e6-ad3268e244d3",
      "metadata": {
        "id": "063e0b02-2782-4c69-93e6-ad3268e244d3"
      },
      "outputs": [
        {
          "name": "stdout",
          "output_type": "stream",
          "text": [
            "            patient_zip3  patient_age    bmi  breast_cancer_diagnosis_year  \\\n",
            "patient_id                                                                   \n",
            "381467               265           30    NaN                          2017   \n",
            "280227                 9           49  27.00                          2017   \n",
            "535537                85           55  32.77                          2018   \n",
            "494303               921           82  29.00                          2015   \n",
            "143491               805           61  24.00                          2016   \n",
            "...                  ...          ...    ...                           ...   \n",
            "829183               403           43  35.75                          2018   \n",
            "552056               507           60    NaN                          2017   \n",
            "808723               917           58    NaN                          2016   \n",
            "182516               840           54    NaN                          2016   \n",
            "515010               960           53  24.00                          2017   \n",
            "\n",
            "            population      density  age_median  age_under_10  age_10_to_19  \\\n",
            "patient_id                                                                    \n",
            "381467            5038   190.129730   43.748571      8.772973     12.927027   \n",
            "280227           25250  3240.102500   43.379487      8.194872     10.889744   \n",
            "535537           10499   678.854839   43.112903     10.903226     13.354839   \n",
            "494303           32265  2198.106977   33.690000      8.755000     13.132500   \n",
            "143491           18953   306.487500   41.729032     10.056250     12.478125   \n",
            "...                ...          ...         ...           ...           ...   \n",
            "829183            8864   114.360000   43.229730     10.567500     11.260000   \n",
            "552056           19333   346.250000   38.525000     12.200000     13.025000   \n",
            "808723           43031  2048.578261   38.852174     11.306522     12.897826   \n",
            "182516           17809   421.138372   34.280000     15.635294     17.000000   \n",
            "515010            4156    21.060811   49.943662      7.975000     10.069444   \n",
            "\n",
            "              age_20s  ...   26   27   28   29   30   31   32   33   34   35  \n",
            "patient_id             ...                                                    \n",
            "381467      11.372973  ...  0.0  0.0  0.0  0.0  0.0  0.0  1.0  0.0  0.0  0.0  \n",
            "280227      13.953846  ...  0.0  0.0  0.0  0.0  0.0  0.0  0.0  0.0  0.0  1.0  \n",
            "535537      12.396774  ...  0.0  0.0  1.0  0.0  0.0  0.0  0.0  0.0  0.0  0.0  \n",
            "494303      26.312500  ...  0.0  0.0  0.0  0.0  0.0  1.0  0.0  0.0  0.0  0.0  \n",
            "143491      13.268750  ...  0.0  0.0  0.0  1.0  0.0  0.0  0.0  0.0  0.0  0.0  \n",
            "...               ...  ...  ...  ...  ...  ...  ...  ...  ...  ...  ...  ...  \n",
            "829183      10.117500  ...  0.0  1.0  0.0  0.0  0.0  0.0  0.0  0.0  0.0  0.0  \n",
            "552056      14.675000  ...  0.0  0.0  0.0  0.0  0.0  0.0  0.0  1.0  0.0  0.0  \n",
            "808723      14.121739  ...  0.0  0.0  0.0  0.0  0.0  1.0  0.0  0.0  0.0  0.0  \n",
            "182516      12.255294  ...  0.0  0.0  0.0  1.0  0.0  0.0  0.0  0.0  0.0  0.0  \n",
            "515010       8.700000  ...  0.0  0.0  0.0  0.0  0.0  1.0  0.0  0.0  0.0  0.0  \n",
            "\n",
            "[22139 rows x 104 columns]\n"
          ]
        }
      ],
      "source": [
        "from sklearn.preprocessing import OneHotEncoder\n",
        "OH_Encoder = OneHotEncoder(handle_unknown = 'ignore', sparse_output = False)\n",
        "\n",
        "#One-Hot Encoding\n",
        "OH_train_cols = pd.DataFrame(OH_Encoder.fit_transform(X_train[low_cardinality_cols]))\n",
        "OH_valid_cols = pd.DataFrame(OH_Encoder.transform(X_valid[low_cardinality_cols]))\n",
        "\n",
        "#One-Hot Encoding removes index names... putting back\n",
        "OH_train_cols.index = X_train.index\n",
        "OH_valid_cols.index = X_valid.index\n",
        "\n",
        "#Numerical column data\n",
        "num_X_train = X_train.drop(object_cols, axis = 1)\n",
        "num_X_valid = X_valid.drop(object_cols, axis = 1)\n",
        "\n",
        "#Final Good Data\n",
        "OH_X_train_final = pd.concat([num_X_train, OH_train_cols], axis = 1 )\n",
        "OH_X_valid_final = pd.concat([num_X_valid, OH_valid_cols], axis = 1)\n",
        "\n",
        "#Ensure columns are string names\n",
        "OH_X_train_final.columns = OH_X_train_final.columns.astype(str)\n",
        "OH_X_valid_final.columns = OH_X_valid_final.columns.astype(str)\n",
        "\n",
        "print(OH_X_train_final)\n",
        "# print(OH_X_valid_final)"
      ]
    },
    {
      "cell_type": "code",
      "execution_count": 13,
      "id": "27dd5b4b-0d9b-433f-aafd-4eea71567f08",
      "metadata": {
        "id": "27dd5b4b-0d9b-433f-aafd-4eea71567f08"
      },
      "outputs": [],
      "source": [
        "# Imputing null values\n",
        "\n",
        "from sklearn.impute import SimpleImputer\n",
        "\n",
        "imputer = SimpleImputer(strategy = 'median')\n",
        "\n",
        "imputed_X_train = pd.DataFrame(imputer.fit_transform(OH_X_train_final))\n",
        "imputed_X_valid = pd.DataFrame(imputer.transform(OH_X_valid_final))\n",
        "\n",
        "#Putting col names back\n",
        "imputed_X_train.columns = OH_X_train_final.columns\n",
        "imputed_X_valid.columns = OH_X_valid_final.columns"
      ]
    },
    {
      "cell_type": "code",
      "execution_count": null,
      "id": "376241f1-1aad-4e76-a6bb-909f4cd0f855",
      "metadata": {
        "id": "376241f1-1aad-4e76-a6bb-909f4cd0f855"
      },
      "outputs": [],
      "source": [
        "print(imputed_X_train)"
      ]
    },
    {
      "cell_type": "code",
      "execution_count": null,
      "id": "2e859aa9-449a-41d7-a656-de306bc72fcc",
      "metadata": {
        "id": "2e859aa9-449a-41d7-a656-de306bc72fcc"
      },
      "outputs": [],
      "source": [
        "print(y_train)"
      ]
    },
    {
      "cell_type": "code",
      "execution_count": 14,
      "id": "ab61629b-46fd-49e8-91a2-acba3f05c345",
      "metadata": {
        "id": "ab61629b-46fd-49e8-91a2-acba3f05c345"
      },
      "outputs": [],
      "source": [
        "from sklearn.svm import SVR\n",
        "from sklearn.metrics import mean_squared_error\n",
        "import numpy as np\n",
        "\n",
        "# function for finding prediction\n",
        "def score_dataset(X_train, X_valid, y_train, y_valid):\n",
        "    model= SVR(kernel='linear')\n",
        "    model.fit(X_train, y_train)\n",
        "    preds = model.predict(X_valid)\n",
        "    mse = mean_squared_error(y_valid, preds)\n",
        "    final_rmse = np.sqrt(mse)\n",
        "    return final_rmse"
      ]
    },
    {
      "cell_type": "code",
      "execution_count": 16,
      "id": "0880b658-0f2a-40d8-8bb7-ff1c34b9759f",
      "metadata": {
        "id": "0880b658-0f2a-40d8-8bb7-ff1c34b9759f"
      },
      "outputs": [],
      "source": [
        "print(score_dataset(imputed_X_train, imputed_X_valid, y_train, y_valid))"
      ]
    },
    {
      "cell_type": "code",
      "execution_count": 15,
      "id": "df2f3312-cde0-4891-be24-aa6e8329f999",
      "metadata": {
        "id": "df2f3312-cde0-4891-be24-aa6e8329f999"
      },
      "outputs": [
        {
          "name": "stdout",
          "output_type": "stream",
          "text": [
            "       patient_zip3  patient_age    bmi  breast_cancer_diagnosis_year  \\\n",
            "0             600.0         49.0  28.34                        2016.0   \n",
            "1             455.0         53.0  28.34                        2017.0   \n",
            "2             234.0         60.0  28.34                        2017.0   \n",
            "3             925.0         51.0  28.34                        2018.0   \n",
            "4             910.0         47.0  27.82                        2015.0   \n",
            "...             ...          ...    ...                           ...   \n",
            "11840         443.0         70.0  33.00                        2016.0   \n",
            "11841         212.0         55.0  35.87                        2018.0   \n",
            "11842         296.0         44.0  28.34                        2018.0   \n",
            "11843         947.0         70.0  28.34                        2018.0   \n",
            "11844          67.0         64.0  28.34                        2018.0   \n",
            "\n",
            "       population      density  age_median  age_under_10  age_10_to_19  \\\n",
            "0         25744.0   981.763077   41.762500     11.784615     13.867692   \n",
            "1         16722.0   346.450000   40.080000     12.060000     14.580000   \n",
            "2         13242.0   299.253333   44.930952      9.122727     10.681818   \n",
            "3         38343.0   700.337500   36.279487     13.266667     15.664103   \n",
            "4         22084.0  2681.615385   46.792308      9.000000     11.461538   \n",
            "...           ...          ...         ...           ...           ...   \n",
            "11840     14762.0  1120.177778   36.272222      9.888889     15.383333   \n",
            "11841     27842.0  2349.290698   35.820513     10.855000     14.605000   \n",
            "11842     16274.0   312.523077   41.303077     10.341538     14.770769   \n",
            "11843     14754.0  4547.400000   36.710000      7.710000     15.930000   \n",
            "11844      8750.0   427.642105   48.965789      8.644737     10.315789   \n",
            "\n",
            "         age_20s  ...   26   27   28   29   30   31   32   33   34   35  \n",
            "0      10.573846  ...  1.0  0.0  0.0  0.0  0.0  0.0  0.0  0.0  0.0  0.0  \n",
            "1      11.940000  ...  1.0  0.0  0.0  0.0  0.0  0.0  0.0  0.0  0.0  0.0  \n",
            "2      13.836364  ...  0.0  0.0  0.0  0.0  0.0  0.0  1.0  0.0  0.0  0.0  \n",
            "3      13.494872  ...  0.0  0.0  0.0  0.0  0.0  1.0  0.0  0.0  0.0  0.0  \n",
            "4       9.423077  ...  0.0  0.0  0.0  0.0  0.0  1.0  0.0  0.0  0.0  0.0  \n",
            "...          ...  ...  ...  ...  ...  ...  ...  ...  ...  ...  ...  ...  \n",
            "11840  19.544444  ...  1.0  0.0  0.0  0.0  0.0  0.0  0.0  0.0  0.0  0.0  \n",
            "11841  16.855000  ...  0.0  0.0  0.0  0.0  0.0  0.0  1.0  0.0  0.0  0.0  \n",
            "11842  13.436923  ...  0.0  0.0  0.0  0.0  0.0  0.0  1.0  0.0  0.0  0.0  \n",
            "11843  21.770000  ...  0.0  0.0  0.0  0.0  0.0  1.0  0.0  0.0  0.0  0.0  \n",
            "11844  10.513158  ...  0.0  0.0  0.0  0.0  1.0  0.0  0.0  0.0  0.0  0.0  \n",
            "\n",
            "[11845 rows x 104 columns]\n"
          ]
        }
      ],
      "source": [
        "#TEST DATA...\n",
        "# One Hot Encode test data and Impute null values\n",
        "\n",
        "OH_test_cols = pd.DataFrame(OH_Encoder.transform(X_test[low_cardinality_cols]))\n",
        "\n",
        "#Put names back\n",
        "OH_test_cols.index = X_test.index\n",
        "\n",
        "#numerical cols\n",
        "num_X_test = X_test.drop(object_cols, axis = 1)\n",
        "\n",
        "#Final good testing data\n",
        "OH_X_test_final = pd.concat([num_X_test, OH_test_cols], axis = 1 )\n",
        "\n",
        "#Str col names\n",
        "OH_X_test_final.columns = OH_X_test_final.columns.astype(str)\n",
        "\n",
        "# print(OH_X_test_final)\n",
        "\n",
        "#Imputing values\n",
        "imputed_X_test = pd.DataFrame(imputer.fit_transform(OH_X_test_final))\n",
        "\n",
        "#Putting col names back\n",
        "imputed_X_test.columns = OH_X_test_final.columns\n",
        "\n",
        "#Final final test data = imputed_X_test\n",
        "\n",
        "print(imputed_X_test)"
      ]
    },
    {
      "cell_type": "code",
      "execution_count": 15,
      "id": "570a9e6f-645e-4ec3-8adf-b25aef64f9fc",
      "metadata": {
        "id": "570a9e6f-645e-4ec3-8adf-b25aef64f9fc"
      },
      "outputs": [
        {
          "name": "stderr",
          "output_type": "stream",
          "text": [
            "c:\\Users\\11 PrO\\AppData\\Local\\Programs\\Python\\Python311\\Lib\\site-packages\\sklearn\\linear_model\\_coordinate_descent.py:628: ConvergenceWarning: Objective did not converge. You might want to increase the number of iterations, check the scale of the features or consider increasing regularisation. Duality gap: 1.846e+08, tolerance: 7.713e+04\n",
            "  model = cd_fast.enet_coordinate_descent(\n"
          ]
        }
      ],
      "source": [
        "model = SVR()\n",
        "model.fit(imputed_X_train, y_train)\n",
        "preds_test = model.predict(imputed_X_test)\n",
        "\n",
        "output = pd.DataFrame({'patient_id': X_test.index,\n",
        "                       'treatment_pd': preds_test})\n"
      ]
    },
    {
      "cell_type": "code",
      "execution_count": 16,
      "id": "e72ef7a8-f951-4511-afd0-80d474ac7167",
      "metadata": {
        "id": "e72ef7a8-f951-4511-afd0-80d474ac7167"
      },
      "outputs": [
        {
          "ename": "OSError",
          "evalue": "Cannot save file into a non-existent directory: '\\content\\drive\\MyDrive\\Colab Notebooks'",
          "output_type": "error",
          "traceback": [
            "\u001b[1;31m---------------------------------------------------------------------------\u001b[0m",
            "\u001b[1;31mOSError\u001b[0m                                   Traceback (most recent call last)",
            "Cell \u001b[1;32mIn[16], line 2\u001b[0m\n\u001b[0;32m      1\u001b[0m \u001b[38;5;66;03m#Submitting to the competition!\u001b[39;00m\n\u001b[1;32m----> 2\u001b[0m \u001b[43moutput\u001b[49m\u001b[38;5;241;43m.\u001b[39;49m\u001b[43mto_csv\u001b[49m\u001b[43m(\u001b[49m\u001b[38;5;124;43m'\u001b[39;49m\u001b[38;5;124;43m/content/drive/MyDrive/Colab Notebooks/submission-ADU_E_56.csv.csv\u001b[39;49m\u001b[38;5;124;43m'\u001b[39;49m\u001b[43m,\u001b[49m\u001b[43m \u001b[49m\u001b[43mindex\u001b[49m\u001b[43m \u001b[49m\u001b[38;5;241;43m=\u001b[39;49m\u001b[43m \u001b[49m\u001b[38;5;28;43;01mFalse\u001b[39;49;00m\u001b[43m)\u001b[49m\n",
            "File \u001b[1;32mc:\\Users\\11 PrO\\AppData\\Local\\Programs\\Python\\Python311\\Lib\\site-packages\\pandas\\core\\generic.py:3902\u001b[0m, in \u001b[0;36mNDFrame.to_csv\u001b[1;34m(self, path_or_buf, sep, na_rep, float_format, columns, header, index, index_label, mode, encoding, compression, quoting, quotechar, lineterminator, chunksize, date_format, doublequote, escapechar, decimal, errors, storage_options)\u001b[0m\n\u001b[0;32m   3891\u001b[0m df \u001b[38;5;241m=\u001b[39m \u001b[38;5;28mself\u001b[39m \u001b[38;5;28;01mif\u001b[39;00m \u001b[38;5;28misinstance\u001b[39m(\u001b[38;5;28mself\u001b[39m, ABCDataFrame) \u001b[38;5;28;01melse\u001b[39;00m \u001b[38;5;28mself\u001b[39m\u001b[38;5;241m.\u001b[39mto_frame()\n\u001b[0;32m   3893\u001b[0m formatter \u001b[38;5;241m=\u001b[39m DataFrameFormatter(\n\u001b[0;32m   3894\u001b[0m     frame\u001b[38;5;241m=\u001b[39mdf,\n\u001b[0;32m   3895\u001b[0m     header\u001b[38;5;241m=\u001b[39mheader,\n\u001b[1;32m   (...)\u001b[0m\n\u001b[0;32m   3899\u001b[0m     decimal\u001b[38;5;241m=\u001b[39mdecimal,\n\u001b[0;32m   3900\u001b[0m )\n\u001b[1;32m-> 3902\u001b[0m \u001b[38;5;28;01mreturn\u001b[39;00m \u001b[43mDataFrameRenderer\u001b[49m\u001b[43m(\u001b[49m\u001b[43mformatter\u001b[49m\u001b[43m)\u001b[49m\u001b[38;5;241;43m.\u001b[39;49m\u001b[43mto_csv\u001b[49m\u001b[43m(\u001b[49m\n\u001b[0;32m   3903\u001b[0m \u001b[43m    \u001b[49m\u001b[43mpath_or_buf\u001b[49m\u001b[43m,\u001b[49m\n\u001b[0;32m   3904\u001b[0m \u001b[43m    \u001b[49m\u001b[43mlineterminator\u001b[49m\u001b[38;5;241;43m=\u001b[39;49m\u001b[43mlineterminator\u001b[49m\u001b[43m,\u001b[49m\n\u001b[0;32m   3905\u001b[0m \u001b[43m    \u001b[49m\u001b[43msep\u001b[49m\u001b[38;5;241;43m=\u001b[39;49m\u001b[43msep\u001b[49m\u001b[43m,\u001b[49m\n\u001b[0;32m   3906\u001b[0m \u001b[43m    \u001b[49m\u001b[43mencoding\u001b[49m\u001b[38;5;241;43m=\u001b[39;49m\u001b[43mencoding\u001b[49m\u001b[43m,\u001b[49m\n\u001b[0;32m   3907\u001b[0m \u001b[43m    \u001b[49m\u001b[43merrors\u001b[49m\u001b[38;5;241;43m=\u001b[39;49m\u001b[43merrors\u001b[49m\u001b[43m,\u001b[49m\n\u001b[0;32m   3908\u001b[0m \u001b[43m    \u001b[49m\u001b[43mcompression\u001b[49m\u001b[38;5;241;43m=\u001b[39;49m\u001b[43mcompression\u001b[49m\u001b[43m,\u001b[49m\n\u001b[0;32m   3909\u001b[0m \u001b[43m    \u001b[49m\u001b[43mquoting\u001b[49m\u001b[38;5;241;43m=\u001b[39;49m\u001b[43mquoting\u001b[49m\u001b[43m,\u001b[49m\n\u001b[0;32m   3910\u001b[0m \u001b[43m    \u001b[49m\u001b[43mcolumns\u001b[49m\u001b[38;5;241;43m=\u001b[39;49m\u001b[43mcolumns\u001b[49m\u001b[43m,\u001b[49m\n\u001b[0;32m   3911\u001b[0m \u001b[43m    \u001b[49m\u001b[43mindex_label\u001b[49m\u001b[38;5;241;43m=\u001b[39;49m\u001b[43mindex_label\u001b[49m\u001b[43m,\u001b[49m\n\u001b[0;32m   3912\u001b[0m \u001b[43m    \u001b[49m\u001b[43mmode\u001b[49m\u001b[38;5;241;43m=\u001b[39;49m\u001b[43mmode\u001b[49m\u001b[43m,\u001b[49m\n\u001b[0;32m   3913\u001b[0m \u001b[43m    \u001b[49m\u001b[43mchunksize\u001b[49m\u001b[38;5;241;43m=\u001b[39;49m\u001b[43mchunksize\u001b[49m\u001b[43m,\u001b[49m\n\u001b[0;32m   3914\u001b[0m \u001b[43m    \u001b[49m\u001b[43mquotechar\u001b[49m\u001b[38;5;241;43m=\u001b[39;49m\u001b[43mquotechar\u001b[49m\u001b[43m,\u001b[49m\n\u001b[0;32m   3915\u001b[0m \u001b[43m    \u001b[49m\u001b[43mdate_format\u001b[49m\u001b[38;5;241;43m=\u001b[39;49m\u001b[43mdate_format\u001b[49m\u001b[43m,\u001b[49m\n\u001b[0;32m   3916\u001b[0m \u001b[43m    \u001b[49m\u001b[43mdoublequote\u001b[49m\u001b[38;5;241;43m=\u001b[39;49m\u001b[43mdoublequote\u001b[49m\u001b[43m,\u001b[49m\n\u001b[0;32m   3917\u001b[0m \u001b[43m    \u001b[49m\u001b[43mescapechar\u001b[49m\u001b[38;5;241;43m=\u001b[39;49m\u001b[43mescapechar\u001b[49m\u001b[43m,\u001b[49m\n\u001b[0;32m   3918\u001b[0m \u001b[43m    \u001b[49m\u001b[43mstorage_options\u001b[49m\u001b[38;5;241;43m=\u001b[39;49m\u001b[43mstorage_options\u001b[49m\u001b[43m,\u001b[49m\n\u001b[0;32m   3919\u001b[0m \u001b[43m\u001b[49m\u001b[43m)\u001b[49m\n",
            "File \u001b[1;32mc:\\Users\\11 PrO\\AppData\\Local\\Programs\\Python\\Python311\\Lib\\site-packages\\pandas\\io\\formats\\format.py:1152\u001b[0m, in \u001b[0;36mDataFrameRenderer.to_csv\u001b[1;34m(self, path_or_buf, encoding, sep, columns, index_label, mode, compression, quoting, quotechar, lineterminator, chunksize, date_format, doublequote, escapechar, errors, storage_options)\u001b[0m\n\u001b[0;32m   1131\u001b[0m     created_buffer \u001b[38;5;241m=\u001b[39m \u001b[38;5;28;01mFalse\u001b[39;00m\n\u001b[0;32m   1133\u001b[0m csv_formatter \u001b[38;5;241m=\u001b[39m CSVFormatter(\n\u001b[0;32m   1134\u001b[0m     path_or_buf\u001b[38;5;241m=\u001b[39mpath_or_buf,\n\u001b[0;32m   1135\u001b[0m     lineterminator\u001b[38;5;241m=\u001b[39mlineterminator,\n\u001b[1;32m   (...)\u001b[0m\n\u001b[0;32m   1150\u001b[0m     formatter\u001b[38;5;241m=\u001b[39m\u001b[38;5;28mself\u001b[39m\u001b[38;5;241m.\u001b[39mfmt,\n\u001b[0;32m   1151\u001b[0m )\n\u001b[1;32m-> 1152\u001b[0m \u001b[43mcsv_formatter\u001b[49m\u001b[38;5;241;43m.\u001b[39;49m\u001b[43msave\u001b[49m\u001b[43m(\u001b[49m\u001b[43m)\u001b[49m\n\u001b[0;32m   1154\u001b[0m \u001b[38;5;28;01mif\u001b[39;00m created_buffer:\n\u001b[0;32m   1155\u001b[0m     \u001b[38;5;28;01massert\u001b[39;00m \u001b[38;5;28misinstance\u001b[39m(path_or_buf, StringIO)\n",
            "File \u001b[1;32mc:\\Users\\11 PrO\\AppData\\Local\\Programs\\Python\\Python311\\Lib\\site-packages\\pandas\\io\\formats\\csvs.py:247\u001b[0m, in \u001b[0;36mCSVFormatter.save\u001b[1;34m(self)\u001b[0m\n\u001b[0;32m    243\u001b[0m \u001b[38;5;250m\u001b[39m\u001b[38;5;124;03m\"\"\"\u001b[39;00m\n\u001b[0;32m    244\u001b[0m \u001b[38;5;124;03mCreate the writer & save.\u001b[39;00m\n\u001b[0;32m    245\u001b[0m \u001b[38;5;124;03m\"\"\"\u001b[39;00m\n\u001b[0;32m    246\u001b[0m \u001b[38;5;66;03m# apply compression and byte/text conversion\u001b[39;00m\n\u001b[1;32m--> 247\u001b[0m \u001b[38;5;28;01mwith\u001b[39;00m \u001b[43mget_handle\u001b[49m\u001b[43m(\u001b[49m\n\u001b[0;32m    248\u001b[0m \u001b[43m    \u001b[49m\u001b[38;5;28;43mself\u001b[39;49m\u001b[38;5;241;43m.\u001b[39;49m\u001b[43mfilepath_or_buffer\u001b[49m\u001b[43m,\u001b[49m\n\u001b[0;32m    249\u001b[0m \u001b[43m    \u001b[49m\u001b[38;5;28;43mself\u001b[39;49m\u001b[38;5;241;43m.\u001b[39;49m\u001b[43mmode\u001b[49m\u001b[43m,\u001b[49m\n\u001b[0;32m    250\u001b[0m \u001b[43m    \u001b[49m\u001b[43mencoding\u001b[49m\u001b[38;5;241;43m=\u001b[39;49m\u001b[38;5;28;43mself\u001b[39;49m\u001b[38;5;241;43m.\u001b[39;49m\u001b[43mencoding\u001b[49m\u001b[43m,\u001b[49m\n\u001b[0;32m    251\u001b[0m \u001b[43m    \u001b[49m\u001b[43merrors\u001b[49m\u001b[38;5;241;43m=\u001b[39;49m\u001b[38;5;28;43mself\u001b[39;49m\u001b[38;5;241;43m.\u001b[39;49m\u001b[43merrors\u001b[49m\u001b[43m,\u001b[49m\n\u001b[0;32m    252\u001b[0m \u001b[43m    \u001b[49m\u001b[43mcompression\u001b[49m\u001b[38;5;241;43m=\u001b[39;49m\u001b[38;5;28;43mself\u001b[39;49m\u001b[38;5;241;43m.\u001b[39;49m\u001b[43mcompression\u001b[49m\u001b[43m,\u001b[49m\n\u001b[0;32m    253\u001b[0m \u001b[43m    \u001b[49m\u001b[43mstorage_options\u001b[49m\u001b[38;5;241;43m=\u001b[39;49m\u001b[38;5;28;43mself\u001b[39;49m\u001b[38;5;241;43m.\u001b[39;49m\u001b[43mstorage_options\u001b[49m\u001b[43m,\u001b[49m\n\u001b[0;32m    254\u001b[0m \u001b[43m\u001b[49m\u001b[43m)\u001b[49m \u001b[38;5;28;01mas\u001b[39;00m handles:\n\u001b[0;32m    255\u001b[0m     \u001b[38;5;66;03m# Note: self.encoding is irrelevant here\u001b[39;00m\n\u001b[0;32m    256\u001b[0m     \u001b[38;5;28mself\u001b[39m\u001b[38;5;241m.\u001b[39mwriter \u001b[38;5;241m=\u001b[39m csvlib\u001b[38;5;241m.\u001b[39mwriter(\n\u001b[0;32m    257\u001b[0m         handles\u001b[38;5;241m.\u001b[39mhandle,\n\u001b[0;32m    258\u001b[0m         lineterminator\u001b[38;5;241m=\u001b[39m\u001b[38;5;28mself\u001b[39m\u001b[38;5;241m.\u001b[39mlineterminator,\n\u001b[1;32m   (...)\u001b[0m\n\u001b[0;32m    263\u001b[0m         quotechar\u001b[38;5;241m=\u001b[39m\u001b[38;5;28mself\u001b[39m\u001b[38;5;241m.\u001b[39mquotechar,\n\u001b[0;32m    264\u001b[0m     )\n\u001b[0;32m    266\u001b[0m     \u001b[38;5;28mself\u001b[39m\u001b[38;5;241m.\u001b[39m_save()\n",
            "File \u001b[1;32mc:\\Users\\11 PrO\\AppData\\Local\\Programs\\Python\\Python311\\Lib\\site-packages\\pandas\\io\\common.py:739\u001b[0m, in \u001b[0;36mget_handle\u001b[1;34m(path_or_buf, mode, encoding, compression, memory_map, is_text, errors, storage_options)\u001b[0m\n\u001b[0;32m    737\u001b[0m \u001b[38;5;66;03m# Only for write methods\u001b[39;00m\n\u001b[0;32m    738\u001b[0m \u001b[38;5;28;01mif\u001b[39;00m \u001b[38;5;124m\"\u001b[39m\u001b[38;5;124mr\u001b[39m\u001b[38;5;124m\"\u001b[39m \u001b[38;5;129;01mnot\u001b[39;00m \u001b[38;5;129;01min\u001b[39;00m mode \u001b[38;5;129;01mand\u001b[39;00m is_path:\n\u001b[1;32m--> 739\u001b[0m     \u001b[43mcheck_parent_directory\u001b[49m\u001b[43m(\u001b[49m\u001b[38;5;28;43mstr\u001b[39;49m\u001b[43m(\u001b[49m\u001b[43mhandle\u001b[49m\u001b[43m)\u001b[49m\u001b[43m)\u001b[49m\n\u001b[0;32m    741\u001b[0m \u001b[38;5;28;01mif\u001b[39;00m compression:\n\u001b[0;32m    742\u001b[0m     \u001b[38;5;28;01mif\u001b[39;00m compression \u001b[38;5;241m!=\u001b[39m \u001b[38;5;124m\"\u001b[39m\u001b[38;5;124mzstd\u001b[39m\u001b[38;5;124m\"\u001b[39m:\n\u001b[0;32m    743\u001b[0m         \u001b[38;5;66;03m# compression libraries do not like an explicit text-mode\u001b[39;00m\n",
            "File \u001b[1;32mc:\\Users\\11 PrO\\AppData\\Local\\Programs\\Python\\Python311\\Lib\\site-packages\\pandas\\io\\common.py:604\u001b[0m, in \u001b[0;36mcheck_parent_directory\u001b[1;34m(path)\u001b[0m\n\u001b[0;32m    602\u001b[0m parent \u001b[38;5;241m=\u001b[39m Path(path)\u001b[38;5;241m.\u001b[39mparent\n\u001b[0;32m    603\u001b[0m \u001b[38;5;28;01mif\u001b[39;00m \u001b[38;5;129;01mnot\u001b[39;00m parent\u001b[38;5;241m.\u001b[39mis_dir():\n\u001b[1;32m--> 604\u001b[0m     \u001b[38;5;28;01mraise\u001b[39;00m \u001b[38;5;167;01mOSError\u001b[39;00m(\u001b[38;5;124mrf\u001b[39m\u001b[38;5;124m\"\u001b[39m\u001b[38;5;124mCannot save file into a non-existent directory: \u001b[39m\u001b[38;5;124m'\u001b[39m\u001b[38;5;132;01m{\u001b[39;00mparent\u001b[38;5;132;01m}\u001b[39;00m\u001b[38;5;124m'\u001b[39m\u001b[38;5;124m\"\u001b[39m)\n",
            "\u001b[1;31mOSError\u001b[0m: Cannot save file into a non-existent directory: '\\content\\drive\\MyDrive\\Colab Notebooks'"
          ]
        }
      ],
      "source": [
        "#Submitting to the competition!\n",
        "output.to_csv('/content/drive/MyDrive/Colab Notebooks/submission-ADU_E_56.csv.csv', index = False)"
      ]
    },
    {
      "cell_type": "code",
      "execution_count": null,
      "id": "22ee3079-3eba-413f-8fb5-074289b8451f",
      "metadata": {
        "id": "22ee3079-3eba-413f-8fb5-074289b8451f"
      },
      "outputs": [],
      "source": []
    }
  ],
  "metadata": {
    "colab": {
      "provenance": []
    },
    "kernelspec": {
      "display_name": "Python 3 (ipykernel)",
      "language": "python",
      "name": "python3"
    },
    "language_info": {
      "codemirror_mode": {
        "name": "ipython",
        "version": 3
      },
      "file_extension": ".py",
      "mimetype": "text/x-python",
      "name": "python",
      "nbconvert_exporter": "python",
      "pygments_lexer": "ipython3",
      "version": "3.11.5"
    }
  },
  "nbformat": 4,
  "nbformat_minor": 5
}
